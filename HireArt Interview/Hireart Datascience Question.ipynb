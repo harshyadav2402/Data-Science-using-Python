{
 "cells": [
  {
   "cell_type": "markdown",
   "metadata": {},
   "source": [
    "<h1 style=\"text-align:center\">HireArt Coding Competition for Interview</h1>\n",
    "\n",
    "<h2 style=\"text-align:center\">Code Written By: Harsh Yadav</h2>"
   ]
  },
  {
   "cell_type": "code",
   "execution_count": 108,
   "metadata": {
    "collapsed": true
   },
   "outputs": [],
   "source": [
    "#importing all necessary libraries for our analysis\n",
    "\n",
    "import pandas as pd\n",
    "import numpy as np\n",
    "import matplotlib.pyplot as plt\n",
    "\n",
    "#importing data from the downloaded file into a dataframe named df\n",
    "df = pd.read_csv('C:/Users/Harsh Yadav/Downloads/HireArt - Data Analyst Exercise 10.12.17 - Sheet1.csv', header=0)"
   ]
  },
  {
   "cell_type": "code",
   "execution_count": 109,
   "metadata": {
    "collapsed": false
   },
   "outputs": [],
   "source": [
    "#Converting the column Date of Contact from type object to type Datetime for our analysis based on month\n",
    "df['Date of Contact'] = df['Date of Contact'].astype('datetime64[ns]') "
   ]
  },
  {
   "cell_type": "code",
   "execution_count": 110,
   "metadata": {
    "collapsed": false
   },
   "outputs": [],
   "source": [
    "#Extracting only the month from the date mentioned and creating a column named Month which contains the month values \n",
    "df['Month']=df['Date of Contact'].dt.month"
   ]
  },
  {
   "cell_type": "code",
   "execution_count": 111,
   "metadata": {
    "collapsed": false
   },
   "outputs": [],
   "source": [
    "#Grouping all the months from the Month column created above and calculating the count of\n",
    "#each month which tells about the number of customers contacted in each month of every year \n",
    "df1=df.groupby('Month').Month.count()"
   ]
  },
  {
   "cell_type": "code",
   "execution_count": 112,
   "metadata": {
    "collapsed": false
   },
   "outputs": [
    {
     "data": {
      "image/png": "[encoded data removed]",
      "text/plain": [
       "<matplotlib.figure.Figure at 0x21a1202acf8>"
      ]
     },
     "metadata": {},
     "output_type": "display_data"
    }
   ],
   "source": [
    "#Plotting the number of clients contacted each month\n",
    "ax=df1.plot.bar(use_index=True)\n",
    "ax.set_ylabel(\"Number of Clients\")\n",
    "plt.show()"
   ]
  },
  {
   "cell_type": "code",
   "execution_count": 107,
   "metadata": {
    "collapsed": false
   },
   "outputs": [
    {
     "data": {
      "text/plain": [
       "'https://plot.ly/~hy1217/1'"
      ]
     },
     "execution_count": 107,
     "metadata": {},
     "output_type": "execute_result"
    }
   ],
   "source": [
    "#Here I have created an interactive bar graph using the plotly library. The graph can be viewed at 'https://plot.ly/~hy1217/1'.\n",
    "import plotly.plotly as py\n",
    "import plotly.graph_objs as go\n",
    "import plotly \n",
    "\n",
    "plotly.tools.set_credentials_file(username='', api_key='')\n",
    "\n",
    "df2=pd.DataFrame({'Month':df1.index, 'Count':df1.values})\n",
    "data = [go.Bar(\n",
    "            x=df2.Month,\n",
    "            y=df2.Count\n",
    "    )]\n",
    "py.plot(data, filename='pandas-bar-chart')"
   ]
  },
  {
   "cell_type": "markdown",
   "metadata": {},
   "source": [
    "From this analysis we can observe that during the 10th month i.e. October, maximum number of clients are contacted which is 213 followed by the 9th Month i.e. September. So, we can infer that September and October are the best months to contact most clients. The team contacts most customers during the month of October."
   ]
  },
  {
   "cell_type": "code",
   "execution_count": null,
   "metadata": {
    "collapsed": true
   },
   "outputs": [],
   "source": []
  }
 ],
 "metadata": {
  "kernelspec": {
   "display_name": "Python 3",
   "language": "python",
   "name": "python3"
  },
  "language_info": {
   "codemirror_mode": {
    "name": "ipython",
    "version": 3
   },
   "file_extension": ".py",
   "mimetype": "text/x-python",
   "name": "python",
   "nbconvert_exporter": "python",
   "pygments_lexer": "ipython3",
   "version": "3.6.2"
  }
 },
 "nbformat": 4,
 "nbformat_minor": 2
}
